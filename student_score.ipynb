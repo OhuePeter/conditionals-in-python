{
  "nbformat": 4,
  "nbformat_minor": 0,
  "metadata": {
    "colab": {
      "provenance": []
    },
    "kernelspec": {
      "name": "python3",
      "display_name": "Python 3"
    },
    "language_info": {
      "name": "python"
    }
  },
  "cells": [
    {
      "cell_type": "markdown",
      "source": [
        "# This is example on students' scores/grades"
      ],
      "metadata": {
        "id": "clJGN7apfyML"
      }
    },
    {
      "cell_type": "code",
      "source": [
        "student_name = input(\"What is your name?: \")"
      ],
      "metadata": {
        "colab": {
          "base_uri": "https://localhost:8080/"
        },
        "id": "qmLrZc2hf7Bp",
        "outputId": "5bde5db7-87fe-44ee-96d3-20e3d5fe6c9e"
      },
      "execution_count": 1,
      "outputs": [
        {
          "name": "stdout",
          "output_type": "stream",
          "text": [
            "What is your name?: Peter\n"
          ]
        }
      ]
    },
    {
      "cell_type": "code",
      "source": [
        "student_score = int(input(\"What is your score?: \"))"
      ],
      "metadata": {
        "colab": {
          "base_uri": "https://localhost:8080/"
        },
        "id": "5pbKBQfpf7FE",
        "outputId": "61a60199-bd60-47f8-fde3-d424b5fe107e"
      },
      "execution_count": 2,
      "outputs": [
        {
          "name": "stdout",
          "output_type": "stream",
          "text": [
            "What is your score?: 67\n"
          ]
        }
      ]
    },
    {
      "cell_type": "code",
      "execution_count": 3,
      "metadata": {
        "colab": {
          "base_uri": "https://localhost:8080/"
        },
        "id": "8wh7X6Wwfoog",
        "outputId": "0cb8745e-c914-4b31-e78a-c1d4dc518edb"
      },
      "outputs": [
        {
          "output_type": "stream",
          "name": "stdout",
          "text": [
            "Hello, Peter your score is 67, You have B\n"
          ]
        }
      ],
      "source": [
        "if student_score > 100:\n",
        "    print(f\"Hello, {student_name} your score is {student_score}, Your score is invalid\")\n",
        "elif student_score == 100:\n",
        "    print(f\"Hello, {student_name} your score is {student_score}, You have A+ and you will get a scholarship\")\n",
        "elif student_score >= 80 and student_score < 100:\n",
        "    print(f\"Hello, {student_name} your score is {student_score}, You have A\")\n",
        "elif student_score >= 65:\n",
        "    print(f\"Hello, {student_name} your score is {student_score}, You have B\")\n",
        "elif student_score >= 50:\n",
        "    print(f\"Hello, {student_name} your score is {student_score}, You have C\")\n",
        "elif student_score < 0:\n",
        "    print(f\"Hello, {student_name} your score is {student_score}, Your score is invalid\")\n",
        "else:\n",
        "    print(f\"Hello, {student_name} your score is {student_score}, Sorry you did not Pass\")"
      ]
    }
  ]
}